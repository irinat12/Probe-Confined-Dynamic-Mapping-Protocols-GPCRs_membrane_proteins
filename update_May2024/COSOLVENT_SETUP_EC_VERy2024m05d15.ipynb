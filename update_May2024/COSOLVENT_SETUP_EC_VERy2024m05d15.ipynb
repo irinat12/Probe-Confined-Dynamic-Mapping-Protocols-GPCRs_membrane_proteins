{
 "cells": [
  {
   "cell_type": "markdown",
   "id": "e380d557",
   "metadata": {},
   "source": [
    "## Initialize HTMD"
   ]
  },
  {
   "cell_type": "code",
   "execution_count": 1,
   "id": "b77f243a",
   "metadata": {},
   "outputs": [
    {
     "name": "stderr",
     "output_type": "stream",
     "text": [
      "2024-05-14 20:15:55,501 - numexpr.utils - INFO - Note: NumExpr detected 40 cores but \"NUMEXPR_MAX_THREADS\" not set, so enforcing safe limit of 8.\n",
      "2024-05-14 20:15:55,503 - numexpr.utils - INFO - NumExpr defaulting to 8 threads.\n"
     ]
    },
    {
     "name": "stdout",
     "output_type": "stream",
     "text": [
      "\n",
      "Please cite HTMD: Doerr et al.(2016)JCTC,12,1845. https://dx.doi.org/10.1021/acs.jctc.6b00049\n",
      "HTMD Documentation at: https://software.acellera.com/htmd/\n",
      "\n",
      "New HTMD version (2.3.25) is available. You are currently on (2.3.2).There are several methods to update:    - Create a new conda env. using `conda create -n htmd2.3.25 htmd=2.3.25 -c acellera -c conda-forge`    - Create a brand new conda installation and run `conda install htmd -c acellera -c conda-forge`    - Run: `conda update htmd -c acellera -c conda-forge` (NOT RECOMMENDED!)\n",
      "\n"
     ]
    },
    {
     "data": {
      "application/vnd.jupyter.widget-view+json": {
       "model_id": "ccd8f641243b4440bc7a5fbfb28ccee3",
       "version_major": 2,
       "version_minor": 0
      },
      "text/plain": []
     },
     "metadata": {},
     "output_type": "display_data"
    }
   ],
   "source": [
    "from htmd.ui import *\n",
    "from moleculekit.util import uniformRandomRotation\n",
    "import nglview as nv\n",
    "from nglview.datafiles import PDB, XTC\n",
    "import configparser\n",
    "from itertools import groupby\n",
    "import math"
   ]
  },
  {
   "cell_type": "markdown",
   "id": "d34e7a86",
   "metadata": {},
   "source": [
    "## Load variables from Input File"
   ]
  },
  {
   "cell_type": "code",
   "execution_count": 2,
   "id": "64d4fb2c",
   "metadata": {},
   "outputs": [
    {
     "name": "stdout",
     "output_type": "stream",
     "text": [
      "{'name': 'RECEPTOR', 'ligname': 'LIG', 'lig': 'LIG', 'lipid': 'POPC', 'coname': 'P01', 'pm': '318.273', 'conc': '10', 'csolv': 'P01', 'zoff': '6.000000', 'zheight': '20.0000', 'offset': '1.000000', 'zoffset': '1.000000', 'x_size_increase': '10.00', 'y_size_increase': '10.00', 'disu': '6 - 106, 80 - 160'}\n",
      "No offset; Centering the cylinder at protein center of mass\n"
     ]
    }
   ],
   "source": [
    "cfg = configparser.RawConfigParser()\n",
    "cfg.read('midas_acemd.cfg')       # Read file\n",
    "#print cfg.getboolean('Settings','bla') # Manual Way to acess them\n",
    "par=dict(cfg.items(\"Settings\"))\n",
    "for p in par:\n",
    "    par[p]=par[p].split(\"#\",1)[0].strip() # To get rid of inline comments\n",
    "globals().update(par)  #Make them availible globally\n",
    "print (par)\n",
    "try:\n",
    "    x_offset = float(x_offset)\n",
    "    y_offset = float(y_offset)\n",
    "except:\n",
    "    print('No offset; Centering the cylinder at protein center of mass')\n",
    "    x_offset = 0.0\n",
    "    y_offset = 0.0\n",
    "try:\n",
    "    inp = open(ligname + '.pdb')\n",
    "    inp.close()\n",
    "except:\n",
    "    print('No ligands associated with protein')\n",
    "    ligname = 'None'\n",
    "try:\n",
    "    x_size_increase = float(x_size_increase)\n",
    "except:\n",
    "    x_size_increase = 0.0\n",
    "try:\n",
    "    y_size_increase = float(y_size_increase)\n",
    "except:\n",
    "    y_size_increase = 0.0\n",
    "try:\n",
    "    z_height_increase = float(z_height_increase)\n",
    "except:\n",
    "    z_height_increase = 0.0"
   ]
  },
  {
   "cell_type": "markdown",
   "id": "c065d7bb",
   "metadata": {},
   "source": [
    "## Check if Packmol Runs"
   ]
  },
  {
   "cell_type": "code",
   "execution_count": 3,
   "id": "6df95174",
   "metadata": {},
   "outputs": [],
   "source": [
    "pmol = shutil.which(\"packmol\", mode=os.X_OK)\n",
    "if not pmol:\n",
    "    raise FileNotFoundError('packmol not found. You should have packmol installed')"
   ]
  },
  {
   "cell_type": "markdown",
   "id": "fd846b7f",
   "metadata": {},
   "source": [
    "## Calculate Cosolvent Box Dimensions"
   ]
  },
  {
   "cell_type": "code",
   "execution_count": 4,
   "id": "64b4ca4c",
   "metadata": {},
   "outputs": [
    {
     "name": "stdout",
     "output_type": "stream",
     "text": [
      "49.64299964904785 46.97999954223633 34.91900062561035 54.91900062561035\n"
     ]
    }
   ],
   "source": [
    "mol1 = Molecule(name + '.pdb')\n",
    "#Create variable with protein coordinates\n",
    "c=mol1.get('coords', sel='protein and z > 0')\n",
    "#Calculate minimum and maximum coordinates\n",
    "pmin=np.min(c, axis=0)\n",
    "pmax=np.max(c, axis=0)\n",
    "xmin=pmin[0] - x_size_increase/2\n",
    "xmax=pmax[0] + x_size_increase/2\n",
    "ymin=pmin[1] - y_size_increase/2\n",
    "ymax=pmax[1] + y_size_increase/2\n",
    "zmin=pmin[2]\n",
    "zmax=pmax[2]\n",
    "xsize=xmax-xmin \n",
    "ysize=ymax-ymin\n",
    "zl2=zmax + float(zoff)\n",
    "zl4=zl2 + float(zheight)\n",
    "print(xsize,ysize,zl2,zl4)"
   ]
  },
  {
   "cell_type": "markdown",
   "id": "49b813bb",
   "metadata": {},
   "source": [
    "## Visualize box"
   ]
  },
  {
   "cell_type": "code",
   "execution_count": 5,
   "id": "aefbd2a9",
   "metadata": {},
   "outputs": [
    {
     "name": "stderr",
     "output_type": "stream",
     "text": [
      "/usr/local/lib/vmd/vmd_LINUXAMD64: /lib/x86_64-linux-gnu/libGL.so.1: no version information available (required by /usr/local/lib/vmd/vmd_LINUXAMD64)\n"
     ]
    }
   ],
   "source": [
    "mol1.view('not water', gui=False)\n",
    "b = VMDBox([xmin + float(x_offset), xmax + float(x_offset), ymin + float(y_offset), ymax + float(y_offset), zl2, zl4])"
   ]
  },
  {
   "cell_type": "markdown",
   "id": "76dcd247",
   "metadata": {},
   "source": [
    "## Calculate number of water molecules fitting the box"
   ]
  },
  {
   "cell_type": "code",
   "execution_count": 6,
   "id": "5ec99247",
   "metadata": {},
   "outputs": [
    {
     "name": "stderr",
     "output_type": "stream",
     "text": [
      "2024-05-14 20:16:09,430 - htmd.builder.solvate - INFO - Using water pdb file at: /home/akimguseynov/.conda/envs/htmd/lib/python3.10/site-packages/htmd/share/solvate/wat.pdb\n",
      "2024-05-14 20:16:10,465 - htmd.builder.solvate - INFO - Replicating 1 water segments, 1 by 1 by 1\n",
      "Solvating: 100%|████████████████████████████████████████████████████████████████████████████████████████████████████████████████████████████████████████████████████████████████████████████████████████████████████████████████████████████████████| 1/1 [00:00<00:00,  2.30it/s]\n",
      "2024-05-14 20:16:10,929 - htmd.builder.solvate - INFO - 1438 water molecules were added to the system.\n"
     ]
    },
    {
     "name": "stdout",
     "output_type": "stream",
     "text": [
      "1438\n"
     ]
    }
   ],
   "source": [
    "#Create a box of soley water molecules\n",
    "smol1 = solvate(mol1, minmax=[[xmin, ymin, zl2],[xmax, ymax, zl4]])\n",
    "#smol1.view()\n",
    "#Calculate the number of water molecules fitting the box\n",
    "numwat=len(smol1.get(\"resid\",sel=\"name OH2\"))\n",
    "print(numwat)"
   ]
  },
  {
   "cell_type": "markdown",
   "id": "a693329e",
   "metadata": {},
   "source": [
    "## Calculate number of cosolvent molecules"
   ]
  },
  {
   "cell_type": "code",
   "execution_count": 7,
   "id": "435a4025",
   "metadata": {},
   "outputs": [
    {
     "name": "stdout",
     "output_type": "stream",
     "text": [
      "9\n"
     ]
    }
   ],
   "source": [
    "numsol=numwat*18.0528*(int(conc)/100)/float(pm)\n",
    "cnumsol=int(math.ceil(numsol))\n",
    "print(cnumsol)"
   ]
  },
  {
   "cell_type": "markdown",
   "id": "95503533",
   "metadata": {},
   "source": [
    "## Calculate Packmol boxes dimensions"
   ]
  },
  {
   "cell_type": "code",
   "execution_count": 8,
   "id": "39f8cb84",
   "metadata": {},
   "outputs": [
    {
     "name": "stdout",
     "output_type": "stream",
     "text": [
      "Boxes dimensions: 50 47 20\n"
     ]
    }
   ],
   "source": [
    "intxs=int(math.ceil(float(xsize)))\n",
    "intys=int(math.ceil(float(ysize)))\n",
    "intzs=int(math.ceil(float(zheight)))\n",
    "print(\"Boxes dimensions:\", intxs, intys, intzs)"
   ]
  },
  {
   "cell_type": "markdown",
   "id": "11a357b9",
   "metadata": {},
   "source": [
    "## Creates input for packmol and runs it to create cosolvent box at desired concentration"
   ]
  },
  {
   "cell_type": "code",
   "execution_count": 9,
   "id": "9104b3da",
   "metadata": {},
   "outputs": [
    {
     "name": "stdout",
     "output_type": "stream",
     "text": [
      "\n",
      "################################################################################\n",
      "\n",
      " PACKMOL - Packing optimization for the automated generation of\n",
      " starting configurations for molecular dynamics simulations.\n",
      " \n",
      "                                                              Version 20.010 \n",
      "\n",
      "################################################################################\n",
      "\n",
      "  Packmol must be run with: packmol < inputfile.inp \n",
      "\n",
      "  Userguide at: http://m3g.iqm.unicamp.br/packmol \n",
      "\n",
      "  Reading input file... (Control-C aborts)\n",
      "  Seed for random number generator:      1234567\n",
      "  Output file: 10_P01_box.pdb\n",
      "  Reading coordinate file: P01.pdb\n",
      "  Number of independent structures:            1\n",
      "  The structures are: \n",
      "  Structure            1 :P01.pdb(          19  atoms)\n",
      "  Maximum number of GENCAN loops for all molecule packing:          200\n",
      "  Total number of restrictions:            1\n",
      "  Distance tolerance:    2.5000000000000000     \n",
      "  Warning: Type of residue numbering not set for structure            1\n",
      "  Residue numbering set for structure            1 :           0\n",
      "  Swap chains of molecules of structure            1 : F\n",
      "  Number of molecules of type            1 :            9\n",
      "  Total number of atoms:          171\n",
      "  Total number of molecules:            9\n",
      "  Number of fixed molecules:            0\n",
      "  Number of free molecules:            9\n",
      "  Number of variables:           54\n",
      "  Total number of fixed atoms:            0\n",
      "  Maximum internal distance of type            1 :    7.3861366085389992     \n",
      "  All atoms must be within these coordinates: \n",
      "   x: [   -993.60000000000002      ,    1006.4000000000000       ] \n",
      "   y: [   -996.81350504332249      ,    1003.1864949566775       ] \n",
      "   z: [   -995.05991414500545      ,    1004.9400858549945       ] \n",
      "  If the system is larger than this, increase the sidemax parameter. \n",
      "\n",
      "################################################################################\n",
      "\n",
      "  Building initial approximation ... \n",
      "\n",
      "################################################################################\n",
      "\n",
      "  Adjusting initial point to fit the constraints \n",
      "\n",
      "--------------------------------------------------------------------------------\n",
      "\n",
      "--------------------------------------------------------------------------------\n",
      "\n",
      "  Molecules of type:            1\n",
      "\n",
      "  Packing:|0                                                             100%|\n",
      "          |******************************************************************|\n",
      "          |\n",
      "\n",
      "  Restraint-only function value:    1.5111656443640920E-002\n",
      "  Maximum violation of the restraints:    5.5848020129289225E-003\n",
      "\n",
      "--------------------------------------------------------------------------------\n",
      "\n",
      "  Rescaling maximum and minimum coordinates... \n",
      "  Computing size of patches... \n",
      "  Add fixed molecules to permanent arrays... \n",
      "  Reseting center of mass... \n",
      "\n",
      "--------------------------------------------------------------------------------\n",
      "\n",
      "  Setting initial trial coordinates ... \n",
      "\n",
      "--------------------------------------------------------------------------------\n",
      "\n",
      "--------------------------------------------------------------------------------\n",
      "\n",
      "  Molecules of type:            1\n",
      "  Adjusting random positions to fit the constraints. \n",
      "  Restraint-only function value:    0.0000000000000000     \n",
      "  Maximum violation of the restraints:    0.0000000000000000     \n",
      "\n",
      "################################################################################\n",
      "\n",
      "  Objective function at initial point:    153.68124763795441     \n",
      "\n",
      "################################################################################\n",
      "\n",
      "  Packing molecules of type:            1\n",
      "\n",
      "################################################################################\n",
      "\n",
      "\n",
      "--------------------------------------------------------------------------------\n",
      "\n",
      "  Starting GENCAN loop:            0\n",
      "  Scaling radii by:    1.1000000000000001     \n",
      "\n",
      "  Packing:|0                                                             100%|\n",
      "          |*******\n",
      "\n",
      "  Function value from last GENCAN loop: f = .00000E+00\n",
      "  Best function value before: f = .15368E+03\n",
      "  Improvement from best function value:    99.99 %\n",
      "  Improvement from last loop:    99.99 %\n",
      "  Maximum violation of target distance:     0.000000\n",
      "  Maximum violation of the constraints: .00000E+00\n",
      "  Current structure written to file: 10_P01_box.pdb\n",
      "--------------------------------------------------------------------------------\n",
      "  Packing solved for molecules of type           1\n",
      "  Objective function value:    0.0000000000000000     \n",
      "  Maximum violation of target distance:    0.0000000000000000     \n",
      "  Max. constraint violation:    0.0000000000000000     \n",
      "--------------------------------------------------------------------------------\n",
      "\n",
      "################################################################################\n",
      "\n",
      "  Packing all molecules together \n",
      "\n",
      "################################################################################\n",
      "\n",
      "\n",
      "  Initial approximation is a solution. Nothing to do. \n",
      "\n",
      "  Solution written to file: 10_P01_box.pdb\n",
      "\n",
      "################################################################################\n",
      "\n",
      "                                 Success! \n",
      "              Final objective function value: .00000E+00\n",
      "              Maximum violation of target distance:   0.000000\n",
      "              Maximum violation of the constraints: .00000E+00\n",
      "\n",
      "--------------------------------------------------------------------------------\n",
      "\n",
      "              Please cite this work if Packmol was useful: \n",
      "\n",
      "           L. Martinez, R. Andrade, E. G. Birgin, J. M. Martinez, \n",
      "         PACKMOL: A package for building initial configurations for\n",
      "                   molecular dynamics simulations. \n",
      "          Journal of Computational Chemistry, 30:2157-2164,2009.\n",
      "\n",
      "################################################################################\n",
      "\n",
      "   Running time:    8.11799988E-03  seconds. \n",
      "\n",
      "--------------------------------------------------------------------------------\n",
      "\n",
      "\n"
     ]
    },
    {
     "data": {
      "text/plain": [
       "0"
      ]
     },
     "execution_count": 9,
     "metadata": {},
     "output_type": "execute_result"
    }
   ],
   "source": [
    "output1=conc + \"_\" + coname + \"_box\"\n",
    "packs=output1 + \".inp\"\n",
    "print(\"\"\"\n",
    "tolerance 2.5\n",
    "filetype pdb\n",
    "output %s.pdb\n",
    "structure %s.pdb\n",
    "  number %s\n",
    "  inside box 0. 0. 0. %s. %s. %s.\n",
    "end structure\n",
    "\"\"\" %(output1,coname,cnumsol,intxs, intys, intzs), file=open(packs, \"w\"))\n",
    "os.system(pmol + '<' + packs)"
   ]
  },
  {
   "cell_type": "markdown",
   "id": "74f1a6cd",
   "metadata": {},
   "source": [
    "## Moves the cosolvent box to the correct coordinates"
   ]
  },
  {
   "cell_type": "code",
   "execution_count": 10,
   "id": "ced06db8",
   "metadata": {},
   "outputs": [
    {
     "name": "stderr",
     "output_type": "stream",
     "text": [
      "/usr/local/lib/vmd/vmd_LINUXAMD64: /lib/x86_64-linux-gnu/libGL.so.1: no version information available (required by /usr/local/lib/vmd/vmd_LINUXAMD64)\n"
     ]
    },
    {
     "name": "stdout",
     "output_type": "stream",
     "text": [
      "10_P01_box_moved.pdb\n"
     ]
    }
   ],
   "source": [
    "cbox=Molecule(output1 + \".pdb\")\n",
    "movedb=cbox.copy()\n",
    "movedb.moveBy([xmin + float(x_offset), ymin + float(y_offset), zl2])\n",
    "movedb.view()\n",
    "b = VMDBox([xmin + float(x_offset), xmax + float(x_offset), ymin + float(y_offset), ymax + float(y_offset), zl2, zl4])\n",
    "movedb.write(output1 + \"_moved.pdb\")\n",
    "cosolvent=(output1 + \"_moved.pdb\")\n",
    "print(cosolvent)"
   ]
  },
  {
   "cell_type": "markdown",
   "id": "6b31f855",
   "metadata": {},
   "source": [
    "## System setup"
   ]
  },
  {
   "cell_type": "code",
   "execution_count": 11,
   "id": "e2e6865f",
   "metadata": {},
   "outputs": [
    {
     "name": "stderr",
     "output_type": "stream",
     "text": [
      "2024-05-14 20:16:26,813 - moleculekit.molecule - INFO - Removed 10611 atoms. 28810 atoms remaining in the molecule.\n",
      "2024-05-14 20:16:26,996 - moleculekit.molecule - INFO - Removed 0 atoms. 4758 atoms remaining in the molecule.\n",
      "2024-05-14 20:16:27,043 - moleculekit.molecule - INFO - Removed 0 atoms. 4758 atoms remaining in the molecule.\n",
      "/usr/local/lib/vmd/vmd_LINUXAMD64: /lib/x86_64-linux-gnu/libGL.so.1: no version information available (required by /usr/local/lib/vmd/vmd_LINUXAMD64)\n"
     ]
    }
   ],
   "source": [
    "# System Setup\n",
    "prot=Molecule(name + '.pdb')  #needs CYS HG->HG1\n",
    "prot.set('name','HG1',sel='resname CYS and name HG')\n",
    "memb=Molecule('membrane_c36.pdb')\n",
    "memb.filter('resname %s' %(lipid))  #only POPC or embed messes up\n",
    "prot.set('segid', 'PRO', sel='protein')\n",
    "prot.set('segid', 'W', sel='water')\n",
    "prot.set('segid', 'CA', sel='resname CA')\n",
    "prot.remove('resname ACE')\n",
    "prot.remove('resname NMA')\n",
    "#Add ligand in the receptor\n",
    "if ligname != 'None':\n",
    "    lig = Molecule(ligname + '.pdb')\n",
    "    lig.set('segid', 'LIG')\n",
    "    prot.append(lig)\n",
    "#Add cosolvent box\n",
    "csol = Molecule(cosolvent)\n",
    "csol.set('segid','C1')\n",
    "prot.append(csol)\n",
    "mol2=embed(prot,memb)\n",
    "mol2.view()\n",
    "mol2.write(\"embedded_system.pdb\")"
   ]
  },
  {
   "cell_type": "markdown",
   "id": "31bc2c8b",
   "metadata": {},
   "source": [
    "## System solvation"
   ]
  },
  {
   "cell_type": "code",
   "execution_count": 12,
   "id": "7260945b",
   "metadata": {},
   "outputs": [
    {
     "name": "stderr",
     "output_type": "stream",
     "text": [
      "2024-05-14 20:16:35,910 - htmd.builder.solvate - INFO - Using water pdb file at: /home/akimguseynov/.conda/envs/htmd/lib/python3.10/site-packages/htmd/share/solvate/wat.pdb\n",
      "2024-05-14 20:16:37,049 - htmd.builder.solvate - INFO - Replicating 12 water segments, 2 by 2 by 3\n",
      "Solvating: 100%|██████████████████████████████████████████████████████████████████████████████████████████████████████████████████████████████████████████████████████████████████████████████████████████████████████████████████████████████████| 12/12 [01:04<00:00,  5.40s/it]\n",
      "2024-05-14 20:17:45,860 - htmd.builder.solvate - INFO - 27897 water molecules were added to the system.\n",
      "2024-05-14 20:17:46,125 - moleculekit.writers - WARNING - Field \"serial\" of PDB overflows. Your data will be truncated to 5 characters.\n",
      "2024-05-14 20:17:51,394 - moleculekit.writers - WARNING - Field \"serial\" of PDB overflows. Your data will be truncated to 5 characters.\n",
      "/usr/local/lib/vmd/vmd_LINUXAMD64: /lib/x86_64-linux-gnu/libGL.so.1: no version information available (required by /usr/local/lib/vmd/vmd_LINUXAMD64)\n"
     ]
    }
   ],
   "source": [
    "smol2 = solvate(mol2, negz=30, posz=10)\n",
    "smol2.write('solvated_system.pdb')\n",
    "smol2.view()"
   ]
  },
  {
   "cell_type": "markdown",
   "id": "95d1f14f",
   "metadata": {},
   "source": [
    "## Print the ligand and cosolvent parameter and topology filenames"
   ]
  },
  {
   "cell_type": "code",
   "execution_count": 13,
   "id": "de03cb77",
   "metadata": {},
   "outputs": [
    {
     "name": "stdout",
     "output_type": "stream",
     "text": [
      "top_LIG.rtf par_LIG.prm\n",
      "top_P01.rtf par_P01.prm\n"
     ]
    }
   ],
   "source": [
    "if ligname != 'None':\n",
    "    ligt=\"top_\" + ligname + \".rtf\"\n",
    "    ligp=\"par_\" + ligname + \".prm\"\n",
    "    print(ligt, ligp)\n",
    "csolt=\"top_\" + coname + \".rtf\"\n",
    "csolp=\"par_\" + coname + \".prm\"\n",
    "print(csolt, csolp)"
   ]
  },
  {
   "cell_type": "markdown",
   "id": "609380ad",
   "metadata": {},
   "source": [
    "## Create the PSF file"
   ]
  },
  {
   "cell_type": "code",
   "execution_count": 14,
   "id": "38660bd1",
   "metadata": {},
   "outputs": [
    {
     "name": "stderr",
     "output_type": "stream",
     "text": [
      "2024-05-14 20:18:11,705 - htmd.builder.charmm - INFO - Writing out segments.\n",
      "2024-05-14 20:18:23,822 - moleculekit.writers - WARNING - Field \"serial\" of PDB overflows. Your data will be truncated to 5 characters.\n",
      "2024-05-14 20:18:24,412 - moleculekit.writers - WARNING - Field \"serial\" of PDB overflows. Your data will be truncated to 5 characters.\n",
      "2024-05-14 20:18:24,914 - moleculekit.writers - WARNING - Field \"serial\" of PDB overflows. Your data will be truncated to 5 characters.\n",
      "2024-05-14 20:18:25,460 - moleculekit.writers - WARNING - Field \"serial\" of PDB overflows. Your data will be truncated to 5 characters.\n",
      "2024-05-14 20:18:25,972 - moleculekit.writers - WARNING - Field \"serial\" of PDB overflows. Your data will be truncated to 5 characters.\n",
      "2024-05-14 20:18:26,026 - htmd.builder.builder - INFO - 2 disulfide bonds were added\n"
     ]
    },
    {
     "name": "stdout",
     "output_type": "stream",
     "text": [
      "Disulfide Bond between: UniqueResidueID<resname: 'CYS', chain: 'R', resid: 6, insertion: '', segid: 'PRO'>\n",
      "                   and: UniqueResidueID<resname: 'CYS', chain: 'R', resid: 106, insertion: '', segid: 'PRO'>\n",
      "\n",
      "Disulfide Bond between: UniqueResidueID<resname: 'CYS', chain: 'R', resid: 80, insertion: '', segid: 'PRO'>\n",
      "                   and: UniqueResidueID<resname: 'CYS', chain: 'R', resid: 160, insertion: '', segid: 'PRO'>\n",
      "\n"
     ]
    },
    {
     "name": "stderr",
     "output_type": "stream",
     "text": [
      "2024-05-14 20:18:26,700 - htmd.builder.charmm - INFO - Starting the build.\n",
      "2024-05-14 20:18:27,842 - htmd.builder.charmm - WARNING - Failed to set coordinates for 6 atoms.\n",
      "2024-05-14 20:18:27,843 - htmd.builder.charmm - WARNING - Poorly guessed coordinates for 15 atoms.\n",
      "2024-05-14 20:18:27,844 - htmd.builder.charmm - WARNING - Please check /home/akimguseynov/WORKDIR/build/log.txt for further information.\n",
      "2024-05-14 20:18:27,845 - htmd.builder.charmm - INFO - Finished building.\n",
      "2024-05-14 20:18:30,253 - moleculekit.readers - WARNING - Non-integer values were read from the PDB \"serial\" field. Dropping PDB values and assigning new ones.\n",
      "2024-05-14 20:18:30,377 - moleculekit.readers - WARNING - Reading PDB file with more than 99999 atoms. Bond information can be wrong.\n",
      "2024-05-14 20:18:35,815 - htmd.builder.ionize - INFO - Adding 16 anions + 0 cations for neutralizing and 160 ions for the given salt concentration 0.154 M.\n",
      "2024-05-14 20:20:09,540 - htmd.builder.charmm - INFO - Writing out segments.\n",
      "2024-05-14 20:20:21,896 - moleculekit.writers - WARNING - Field \"serial\" of PDB overflows. Your data will be truncated to 5 characters.\n",
      "2024-05-14 20:20:22,502 - moleculekit.writers - WARNING - Field \"serial\" of PDB overflows. Your data will be truncated to 5 characters.\n",
      "2024-05-14 20:20:23,069 - moleculekit.writers - WARNING - Field \"serial\" of PDB overflows. Your data will be truncated to 5 characters.\n",
      "2024-05-14 20:20:23,611 - moleculekit.writers - WARNING - Field \"serial\" of PDB overflows. Your data will be truncated to 5 characters.\n",
      "2024-05-14 20:20:24,120 - moleculekit.writers - WARNING - Field \"serial\" of PDB overflows. Your data will be truncated to 5 characters.\n",
      "2024-05-14 20:20:24,583 - moleculekit.writers - WARNING - Field \"serial\" of PDB overflows. Your data will be truncated to 5 characters.\n",
      "2024-05-14 20:20:25,258 - htmd.builder.charmm - INFO - Starting the build.\n",
      "2024-05-14 20:20:26,401 - htmd.builder.charmm - WARNING - Failed to set coordinates for 6 atoms.\n",
      "2024-05-14 20:20:26,403 - htmd.builder.charmm - WARNING - Poorly guessed coordinates for 15 atoms.\n",
      "2024-05-14 20:20:26,403 - htmd.builder.charmm - WARNING - Please check /home/akimguseynov/WORKDIR/build/log.txt for further information.\n",
      "2024-05-14 20:20:26,404 - htmd.builder.charmm - INFO - Finished building.\n",
      "2024-05-14 20:20:29,033 - moleculekit.readers - WARNING - Non-integer values were read from the PDB \"serial\" field. Dropping PDB values and assigning new ones.\n",
      "2024-05-14 20:20:29,155 - moleculekit.readers - WARNING - Reading PDB file with more than 99999 atoms. Bond information can be wrong.\n",
      "2024-05-14 20:21:20,303 - htmd.builder.builder - WARNING - Found cis peptide bond in 1 frames: [0] in the omega diheral \"Angle of (ARG 176 CA PRO R) (ARG 176 C PRO R) (PRO 177 N PRO R) (PRO 177 CA PRO R) \" with indexes [25220, 25240, 25242, 25246]\n",
      "2024-05-14 20:21:20,304 - htmd.builder.builder - WARNING - Found cis peptide bond in 1 frames: [0] in the omega diheral \"Angle of (LEU 217 CA PRO R) (LEU 217 C PRO R) (ARG 218 N PRO R) (ARG 218 CA PRO R) \" with indexes [25902, 25917, 25919, 25921]\n"
     ]
    }
   ],
   "source": [
    "topos  = [csolt,'top/top_all36_prot.rtf','top/top_all36_cgenff.rtf','top/top_all36_lipid.rtf','top/top_water_ions.rtf']\n",
    "params = [csolp,'par/par_all36m_prot.prm','par/par_all36_cgenff.prm','par/par_all36_lipid.prm','par/par_water_ions.prm']\n",
    "if ligname != 'None':\n",
    "    topos = [ligt] + topos\n",
    "    params = [ligp] + params\n",
    "plm = charmm.build(smol2, topo=topos, param=params,outdir='build',ionize=True,saltconc=0.154,saltanion='CL',saltcation='NA')"
   ]
  },
  {
   "cell_type": "markdown",
   "id": "9d66f8f9",
   "metadata": {},
   "source": [
    "## View the system (commented: load the system from PSF file)"
   ]
  },
  {
   "cell_type": "code",
   "execution_count": 15,
   "id": "0724b293",
   "metadata": {},
   "outputs": [
    {
     "name": "stderr",
     "output_type": "stream",
     "text": [
      "2024-05-14 20:21:24,544 - moleculekit.writers - WARNING - Field \"serial\" of PDB overflows. Your data will be truncated to 5 characters.\n",
      "/usr/local/lib/vmd/vmd_LINUXAMD64: /lib/x86_64-linux-gnu/libGL.so.1: no version information available (required by /usr/local/lib/vmd/vmd_LINUXAMD64)\n"
     ]
    }
   ],
   "source": [
    "#Added to restart the notebook\n",
    "#print(lig)\n",
    "#cfg = configparser.RawConfigParser()\n",
    "#cfg.read('midas_acemd.cfg')       \n",
    "#par=dict(cfg.items(\"Settings\"))\n",
    "#for p in par:\n",
    "#    par[p]=par[p].split(\"#\",1)[0].strip() # To get rid of inline comments\n",
    "#globals().update(par)  #Make them availible globally\n",
    "#print (par)\n",
    "#print(lig)\n",
    "#plm=Molecule('build/structure.pdb')\n",
    "plm.view()"
   ]
  },
  {
   "cell_type": "markdown",
   "id": "36d1340c",
   "metadata": {},
   "source": [
    "## Measure cell dimensions and origin, measure protein center of mass"
   ]
  },
  {
   "cell_type": "code",
   "execution_count": 16,
   "id": "5f546542",
   "metadata": {},
   "outputs": [
    {
     "name": "stdout",
     "output_type": "stream",
     "text": [
      "Dimensions: 92.906 93.597 141.506\n",
      "Origin: -4.1833773 -2.5440595 -8.219274\n"
     ]
    }
   ],
   "source": [
    "boxc=plm.get('coords')\n",
    "bpmin=np.min(boxc, axis=0)\n",
    "bpmax=np.max(boxc, axis=0)\n",
    "bxmin=bpmin[0] \n",
    "bxmax=bpmax[0] \n",
    "bymin=bpmin[1]\n",
    "bymax=bpmax[1] \n",
    "bzmin=bpmin[2]\n",
    "bzmax=bpmax[2]\n",
    "bxsize=bxmax-bxmin \n",
    "bysize=bymax-bymin\n",
    "bzsize=bzmax-bzmin\n",
    "print('Dimensions:', bxsize,bysize,bzsize)\n",
    "\n",
    "bcen=np.average(boxc, axis=0)\n",
    "bcenx=bcen[0]\n",
    "bceny=bcen[1]\n",
    "bcenz=bcen[2]\n",
    "print('Origin:', bcenx,bceny,bcenz)"
   ]
  },
  {
   "cell_type": "markdown",
   "id": "d12fe8fc",
   "metadata": {},
   "source": [
    "## Measure protein center of mass"
   ]
  },
  {
   "cell_type": "code",
   "execution_count": 17,
   "id": "6ae39ec8",
   "metadata": {},
   "outputs": [
    {
     "name": "stdout",
     "output_type": "stream",
     "text": [
      "Atomic masses are: [12.011  1.008  1.008 ...  1.008  1.008  1.008]\n",
      "Protein COM: -1.2823386 1.2996099 -6.2013226\n"
     ]
    }
   ],
   "source": [
    "protc=plm.get('coords', sel='protein')\n",
    "protm=plm.get('masses', sel='protein')\n",
    "print('Atomic masses are:', protm)\n",
    "protcm=np.average(protc, axis=0, weights=protm)\n",
    "protcenx=protcm[0]\n",
    "protceny=protcm[1]\n",
    "protcenz=protcm[2]\n",
    "print('Protein COM:', protcenx,protceny,protcenz)"
   ]
  },
  {
   "cell_type": "markdown",
   "id": "5c8de81f",
   "metadata": {},
   "source": [
    "## Create constraints for EQ-01"
   ]
  },
  {
   "cell_type": "code",
   "execution_count": 18,
   "id": "8e137b00",
   "metadata": {},
   "outputs": [
    {
     "name": "stderr",
     "output_type": "stream",
     "text": [
      "2024-05-14 20:25:03,399 - moleculekit.writers - WARNING - Field \"serial\" of PDB overflows. Your data will be truncated to 5 characters.\n"
     ]
    }
   ],
   "source": [
    "if ligname == 'None':\n",
    "    plm.set('beta', '1', sel='resname %s or water or ions or protein or (resname %s and name P O11 O12 O13 O14 C11 C12 C13 C14 C15 H11A H11B H12A H12B H13A H13B H13C H14A H14B H14C H15A H15B H15C)' %(csolv,lipid))\n",
    "else:\n",
    "    plm.set('beta', '1', sel='resname %s or resname %s or water or ions or protein or (resname %s and name P O11 O12 O13 O14 C11 C12 C13 C14 C15 H11A H11B H12A H12B H13A H13B H13C H14A H14B H14C H15A H15B H15C)' %(ligname,csolv,lipid))\n",
    "plm.write('mineq-01.pdb')"
   ]
  },
  {
   "cell_type": "markdown",
   "id": "96f679bc",
   "metadata": {},
   "source": [
    "## Create constraints for EQ-02"
   ]
  },
  {
   "cell_type": "code",
   "execution_count": 19,
   "id": "e9311d27",
   "metadata": {},
   "outputs": [
    {
     "name": "stderr",
     "output_type": "stream",
     "text": [
      "2024-05-14 20:25:09,073 - moleculekit.writers - WARNING - Field \"serial\" of PDB overflows. Your data will be truncated to 5 characters.\n"
     ]
    }
   ],
   "source": [
    "plm.set('beta', '0', sel='all')\n",
    "if ligname == 'None':\n",
    "    plm.set('beta', '1', sel='protein')\n",
    "else:\n",
    "    plm.set('beta', '1', sel='resname %s or protein' %(ligname))\n",
    "plm.write('mineq-02.pdb')"
   ]
  },
  {
   "cell_type": "markdown",
   "id": "1c53c00b",
   "metadata": {},
   "source": [
    "## Create constraints for EQ-03 and PROD"
   ]
  },
  {
   "cell_type": "code",
   "execution_count": 20,
   "id": "c06ff1da",
   "metadata": {},
   "outputs": [
    {
     "name": "stderr",
     "output_type": "stream",
     "text": [
      "2024-05-14 20:25:15,416 - moleculekit.writers - WARNING - Field \"serial\" of PDB overflows. Your data will be truncated to 5 characters.\n"
     ]
    }
   ],
   "source": [
    "plm.set('beta', '0', sel='all')\n",
    "plm.set('beta', '1', sel='protein and name CA and z > -5 and z < 5')\n",
    "plm.write('prod.pdb')"
   ]
  },
  {
   "cell_type": "markdown",
   "id": "27902f86",
   "metadata": {},
   "source": [
    "## Create input file for EQ-01"
   ]
  },
  {
   "cell_type": "code",
   "execution_count": 21,
   "id": "542b8081",
   "metadata": {},
   "outputs": [],
   "source": [
    "text = \"\"\"\n",
    "#############################################################\n",
    "## JOB DESCRIPTION                                         ##\n",
    "#############################################################\n",
    "\n",
    "# Min. and Eq. of Co-Solvent Membrane System\n",
    "# embedded in POPC membrane, ions and water.\n",
    "# Melting lipid tails. PME, Constant Volume.\n",
    "\n",
    "#############################################################\n",
    "## ADJUSTABLE PARAMETERS                                   ##\n",
    "#############################################################\n",
    "\n",
    "structure          structure.psf\n",
    "coordinates        structure.pdb\n",
    "outputName         mineq-01\n",
    "\n",
    "set temperature    310\n",
    "\n",
    "firsttimestep      0\n",
    "\n",
    "#############################################################\n",
    "## SIMULATION PARAMETERS                                   ##\n",
    "#############################################################\n",
    "# Input\n",
    "paraTypeCharmm\t    on\n",
    "parameters          parameters\n",
    "\n",
    "# NOTE: Do not set the initial velocity temperature if you \n",
    "# have also specified a .vel restart file!\n",
    "temperature         $temperature\n",
    "\n",
    "# Periodic Boundary Conditions\n",
    "# NOTE: Do not set the periodic cell basis if you have also \n",
    "# specified an .xsc restart file!\n",
    "if {1} { \n",
    "cellBasisVector1     %s    0.   0.\n",
    "cellBasisVector2     0.    %s   0.\n",
    "cellBasisVector3     0.    0.   %s\n",
    "cellOrigin           %s %s %s\n",
    "}\n",
    "wrapWater           on\n",
    "wrapAll             on\n",
    "\n",
    "# Force-Field Parameters\n",
    "exclude             scaled1-4\n",
    "1-4scaling          1.0\n",
    "cutoff              12.\n",
    "switching           on\n",
    "switchdist          10.\n",
    "pairlistdist        13.5\n",
    "\n",
    "# Integrator Parameters\n",
    "timestep            1.0  ;# 1fs/step\n",
    "rigidBonds          all  ;# needed for 2fs steps\n",
    "nonbondedFreq       1\n",
    "fullElectFrequency  2  \n",
    "stepspercycle       20\n",
    "\n",
    "#PME (for full-system periodic electrostatics)\n",
    "if {1} {\n",
    "PME                yes\n",
    "PMEGridSpacing     1.0\n",
    "}\n",
    "\n",
    "# Constant Temperature Control\n",
    "langevin            on    ;# do langevin dynamics\n",
    "langevinDamping     1     ;# damping coefficient (gamma) of 5/ps\n",
    "langevinTemp        $temperature\n",
    "\n",
    "restartfreq        1000     ;# 1000steps = every 2ps\n",
    "dcdfreq            1000\n",
    "xstFreq            1000\n",
    "outputEnergies      50\n",
    "outputPressure      50\n",
    "\n",
    "# Fixed Atoms Constraint (set PDB beta-column to 1)\n",
    "if {1} {\n",
    "fixedAtoms          on\n",
    "fixedAtomsFile      mineq-01.pdb\n",
    "fixedAtomsCol       B\n",
    "fixedAtomsForces    on\n",
    "}\n",
    "\n",
    "#############################################################\n",
    "## EXECUTION SCRIPT                                        ##\n",
    "#############################################################\n",
    "\n",
    "# Minimization\n",
    "if {1} {\n",
    "minimize            1000\n",
    "reinitvels          $temperature\n",
    "}\n",
    "\n",
    "#Equilibration\n",
    "run 500000;# 0.5 ns\n",
    "\"\"\" %(bxsize, bysize,bzsize,bcenx, bceny, bcenz)\n",
    "\n",
    "parameter_line = 'parameters          parameters\\n'\n",
    "parameter_line += 'parameters          ' + csolp + '\\n'\n",
    "if ligname != 'None':\n",
    "    parameter_line += 'parameters          ' + ligp + '\\n'\n",
    "#PLEASE FEEL FREE TO MODIFY IF YOU WANT TO ADD MORE PARAMETERS FOR LIGANDS OR NONCANONIC RESIDUES\n",
    "\n",
    "text = text.replace('parameters          parameters\\n', parameter_line)\n",
    "with open(\"mineq-01.conf\", \"w\") as out:\n",
    "    print(text, file=out)"
   ]
  },
  {
   "cell_type": "markdown",
   "id": "7fdae129",
   "metadata": {},
   "source": [
    "## Get cosolvent ResIDs"
   ]
  },
  {
   "cell_type": "code",
   "execution_count": 22,
   "id": "b4094a83",
   "metadata": {},
   "outputs": [],
   "source": [
    "csolec=np.unique(plm.get('resid', sel='resname %s and z > 0' %(csolv)))\n",
    "#wat=smol3.get('coords', sel='water and z > %s and z < %s' %(mzmin,mzmax))"
   ]
  },
  {
   "cell_type": "markdown",
   "id": "1a63de99",
   "metadata": {},
   "source": [
    "## Calculate cylinder radius"
   ]
  },
  {
   "cell_type": "code",
   "execution_count": 23,
   "id": "f8580f2a",
   "metadata": {},
   "outputs": [
    {
     "name": "stdout",
     "output_type": "stream",
     "text": [
      "34\n"
     ]
    }
   ],
   "source": [
    "radius=int(math.floor(np.sqrt((xsize*xsize)+(ysize*ysize)))/2)\n",
    "print(radius)"
   ]
  },
  {
   "cell_type": "markdown",
   "id": "73208217",
   "metadata": {},
   "source": [
    "## Calculate cylinder smaller radius"
   ]
  },
  {
   "cell_type": "code",
   "execution_count": 24,
   "id": "e6117ae0",
   "metadata": {},
   "outputs": [
    {
     "name": "stdout",
     "output_type": "stream",
     "text": [
      "a guidance value for smaller radius (how it would have been for EC/IC simulation): 25\n",
      "Smaller radius was not provided, using the guidance value reported above\n"
     ]
    }
   ],
   "source": [
    "if xsize > ysize:\n",
    "        smallr=int(math.ceil(xsize)/2)\n",
    "else:\n",
    "        smallr=int(math.ceil(ysize)/2)\n",
    "print('a guidance value for smaller radius (how it would have been for EC/IC simulation):', smallr)\n",
    "try:\n",
    "    smallr = float(smaller_radius)\n",
    "except:\n",
    "    print('Smaller radius was not provided, using the guidance value reported above')"
   ]
  },
  {
   "cell_type": "markdown",
   "id": "4c1d8d04",
   "metadata": {},
   "source": [
    "## Create collective variable file for EQ-02"
   ]
  },
  {
   "cell_type": "code",
   "execution_count": 25,
   "id": "83a1d099",
   "metadata": {},
   "outputs": [],
   "source": [
    "print(\"\"\"\n",
    "Colvarstrajfrequency    50\n",
    "Colvarsrestartfrequency 50\n",
    "\"\"\", file=open(\"cosolvent.col\", \"w\"))\n",
    "\n",
    "for element in csolec:\n",
    "    #zio=plm.get('resid', sel='resname %s and resid %s z > 0' %(csolv,element))\n",
    "    zio=plm.get(\"serial\",sel=\"resname %s and resid %s and z > 0\" %(csolv,element))\n",
    "    #rint(resid)\n",
    "    #print(zio)\n",
    "    print(\"\"\"\n",
    "    ### Mol n. %s ###\n",
    "    colvar {\n",
    "       name ec_%s\n",
    "       upperboundary %s\n",
    "       upperwall %s\n",
    "       upperwallconstant 200.0\n",
    "       lowerboundary 0.0\n",
    "       lowerwall 0.0\n",
    "       lowerwallconstant 200.0\n",
    "       distancexy {\n",
    "          ref {\n",
    "             dummyAtom ( %s, %s, 0.000 )\n",
    "          }\n",
    "          main {\n",
    "             atomNumbers {%s}\n",
    "          }\n",
    "         axis (0.0, 0.0, 1.0)\n",
    "       }\n",
    "    }\n",
    "\n",
    "    colvar {\n",
    "       name ecz_%s\n",
    "       upperboundary %s\n",
    "       upperwall %s\n",
    "       lowerboundary 0.0\n",
    "       lowerwall 0.0\n",
    "       upperwallconstant 200.0\n",
    "       lowerwallconstant 200.0\n",
    "       distanceZ {\n",
    "          ref {\n",
    "             dummyAtom ( %s, %s, %s )\n",
    "          }\n",
    "          main {\n",
    "            atomNumbers {%s}\n",
    "          }\n",
    "       }\n",
    "    }\n",
    "\"\"\" %(element,element,radius,radius,x_offset,y_offset,str(zio).strip('[]'),element,zheight,zheight,x_offset,y_offset,zl2,str(zio).strip('[]')), file=open(\"cosolvent.col\", \"a\"))"
   ]
  },
  {
   "cell_type": "markdown",
   "id": "4e5b21a8",
   "metadata": {},
   "source": [
    "## Create input file for EQ-02"
   ]
  },
  {
   "cell_type": "code",
   "execution_count": 26,
   "id": "5e766543",
   "metadata": {},
   "outputs": [],
   "source": [
    "text = \"\"\"\n",
    "#############################################################\n",
    "## JOB DESCRIPTION                                         ##\n",
    "#############################################################\n",
    "\n",
    "# Min. and Eq. of Co-Solvent Membrane System\n",
    "# embedded in POPC membrane, ions and water.\n",
    "# Protein constrained. PME, Constant Pressure.\n",
    "\n",
    "#############################################################\n",
    "## ADJUSTABLE PARAMETERS                                   ##\n",
    "#############################################################\n",
    "\n",
    "structure          structure.psf\n",
    "coordinates        structure.pdb\n",
    "\n",
    "outputName         mineq-02\n",
    "\n",
    "set temperature    310\n",
    "\n",
    "# Continuing a job from the restart files\n",
    "if {1} {\n",
    "set inputname      mineq-01\n",
    "binCoordinates     ./$inputname.restart.coor\n",
    "binVelocities      ./$inputname.restart.vel  \n",
    "extendedSystem\t   ./$inputname.restart.xsc\n",
    "} \n",
    "\n",
    "firsttimestep      501000 ;# last step of previous run\n",
    "\n",
    "#############################################################\n",
    "## SIMULATION PARAMETERS                                   ##\n",
    "#############################################################\n",
    "\n",
    "# Input\n",
    "paraTypeCharmm\t    on\n",
    "parameters          parameters\n",
    "\n",
    "wrapWater           on\n",
    "wrapAll             on\n",
    "\n",
    "# Force-Field Parameters\n",
    "exclude             scaled1-4\n",
    "1-4scaling          1.0\n",
    "cutoff              12.\n",
    "switching           on\n",
    "switchdist          10.\n",
    "pairlistdist        13.5\n",
    "\n",
    "# Integrator Parameters\n",
    "timestep            2.0  ;# 2fs/step\n",
    "rigidBonds          all  ;# needed for 2fs steps\n",
    "nonbondedFreq       1\n",
    "fullElectFrequency  2  \n",
    "stepspercycle       20\n",
    "\n",
    "#PME (for full-system periodic electrostatics)\n",
    "if {1} {\n",
    "PME                yes\n",
    "PMEGridSpacing     1.0\n",
    "}\n",
    "\n",
    "# Constant Temperature Control\n",
    "langevin            on    ;# do langevin dynamics\n",
    "langevinDamping     1     ;# damping coefficient (gamma) of 5/ps\n",
    "langevinTemp        $temperature\n",
    "\n",
    "# Constant Pressure Control (variable volume)\n",
    "if {1} {\n",
    "useGroupPressure      yes ;# needed for 2fs steps\n",
    "useFlexibleCell       yes  ;# no for water box, yes for membrane\n",
    "useConstantArea       no  ;# no for water box, yes for membrane\n",
    "\n",
    "langevinPiston        on\n",
    "langevinPistonTarget  1.01325 ;#  in bar -> 1 atm\n",
    "langevinPistonPeriod  200.\n",
    "langevinPistonDecay   50.\n",
    "langevinPistonTemp    $temperature\n",
    "}\n",
    "\n",
    "restartfreq        1000     ;# 1000steps = every 2ps\n",
    "dcdfreq            1000\n",
    "xstFreq            1000\n",
    "outputEnergies      50\n",
    "outputPressure      50\n",
    "\n",
    "#############################################################\n",
    "## EXTRA PARAMETERS                                        ##\n",
    "#############################################################\n",
    "\n",
    "# Put here any custom parameters that are specific to \n",
    "# this job (e.g., SMD, TclForces, etc...)\n",
    "\n",
    "constraints on\n",
    "consexp 2\n",
    "consref ./structure.pdb\n",
    "conskfile mineq-02.pdb       \n",
    "conskcol B\n",
    "margin 3\n",
    "\n",
    "tclforces on\n",
    "set waterCheckFreq              100\n",
    "set lipidCheckFreq              100\n",
    "set allatompdb                  ./structure.pdb\n",
    "tclForcesScript                 keep_water_out.tcl\n",
    "\n",
    "colvars on\n",
    "colvarsConfig cosolvent.col\n",
    "\n",
    "#############################################################\n",
    "## EXECUTION SCRIPT                                        ##\n",
    "#############################################################\n",
    "\n",
    "# Minimization\n",
    "if {1} {\n",
    "minimize            500\n",
    "reinitvels          $temperature\n",
    "}\n",
    "\n",
    "#Equilibration\n",
    "run 1000000 ;# 2.0 ns\n",
    "\n",
    "\"\"\"\n",
    "\n",
    "parameter_line = 'parameters          parameters\\n'\n",
    "parameter_line += 'parameters          ' + csolp + '\\n'\n",
    "if ligname != 'None':\n",
    "    parameter_line += 'parameters          ' + ligp + '\\n'\n",
    "#PLEASE FEEL FREE TO MODIFY IF YOU WANT TO ADD MORE PARAMETERS FOR LIGANDS OR NONCANONIC RESIDUES\n",
    "\n",
    "text = text.replace('parameters          parameters\\n', parameter_line)\n",
    "with open(\"mineq-02.conf\", \"w\") as out:\n",
    "    print(text, file=out)"
   ]
  },
  {
   "cell_type": "markdown",
   "id": "db6dff67",
   "metadata": {},
   "source": [
    "## Check if there are gaps in the sequence and adjust the CA accordingly"
   ]
  },
  {
   "cell_type": "code",
   "execution_count": 27,
   "id": "1c4f5d68",
   "metadata": {},
   "outputs": [
    {
     "name": "stderr",
     "output_type": "stream",
     "text": [
      "2024-05-14 20:25:37,816 - moleculekit.molecule - INFO - Removed 4667 atoms. 296 atoms remaining in the molecule.\n"
     ]
    },
    {
     "name": "stdout",
     "output_type": "stream",
     "text": [
      "Please deal with duplicate ResIDs separately as it may cause errors. The duplicate ResIDs are (if any):\n",
      "Deltas between ResIDs are: [ 1  1  1  1  1  1  1  1  1  1  1  1  1  1  1  1  1  1  1  1  1  1  1  1\n",
      "  1  1  1  1  1  1  1  1  1  1  1  1  1  1  1  1  1  1  1  1  1  1  1  1\n",
      "  1  1  1  1  1  1  1  1  1  1  1  1  1  1  1  1  1  1  1  1  1  1  1  1\n",
      "  1  1  1  1  1  1  1  1  1  1  1  1  1  1  1  1  1  1  1  1  1  1  1  1\n",
      "  1  1  1  1  1  1  1  1  1  1  1  1  1  1  1  1  1  1  1  1  1  1  1  1\n",
      "  1  1  1  1  1  1  1  1  1  1  1  1  1  1  1  1  1  1  1  1  1  1  1  1\n",
      "  1  1  1  1  1  1  1  1  1  1  1  1  1  1  1  1  1  1  1  1  1  1  1  1\n",
      "  1  1  1  1  1  1  1  1  1  1  1  1  1  1  1  1  1  1  1  1  1  1  1  1\n",
      "  1  1  1  1  1  1  1  1  1  1  1  1  1  1  1  1  1  1  1  1  1  1  1  1\n",
      "  1  1  1  1  1 99  1  1  1  1  1  1  1  1  1  1  1  1  1  1  1  1  1  1\n",
      "  1  1  1  1  1  1  1  1  1  1  1  1  1  1  1  1  1  1  1  1  1  1  1  1\n",
      "  1  1  1  1  1  1  1  1  1  1  1  1  1  1  1  1  1  1  1  1  1  1  1  1\n",
      "  1  1  1  1  1  1]\n",
      "Gaps in the sequence are (if any):\n",
      "1\n",
      "Found 1 gaps in the sequence\n",
      "XXX GLU  followed by  XXX PHE\n",
      "The gap is XXX-XXX,\n",
      "The sequence except this particular gap is XXX-XXX,XXX-XXX\n",
      "Final list of residues is: XXX-XXX,XXX-XXX\n"
     ]
    }
   ],
   "source": [
    "# Copy cosolvent.col and append a line for the protein\n",
    "# I need to calculate the gap in the protein sequence\n",
    "dups = prot.copy()                      # Make a working copy\n",
    "dups.filter(\"name CA and protein\")      # Keep only C-alphas\n",
    "rid = dups.get('resid')                 # Get list of residue ids\n",
    "nrid, count= np.unique(rid,return_counts=True) # Get how many times each residue id appeared\n",
    "print('Please deal with duplicate ResIDs separately as it may cause errors. The duplicate ResIDs are (if any):')\n",
    "nrid[count>1]                           # Show duplicates, if any:\n",
    "deltas = np.diff(rid)\n",
    "print('Deltas between ResIDs are:', deltas)\n",
    "\n",
    "#Create the \"ca\" variable if no gaps in the sequence\n",
    "ca = str('%s-'%(nrid[0])) #Start the list of ResIDs\n",
    "\n",
    "#Find gaps in the sequence and adjust the \"ca\" variable accordingly\n",
    "new_rid = rid[:np.size(rid)-1] # there is no delta for the last residue\n",
    "\n",
    "print('Gaps in the sequence are (if any):')\n",
    "new_rid[deltas!=1]             # Show deltas\n",
    "# Iterate over all residues excluding last one\n",
    "gap_counter=0\n",
    "rn = dups.get('resname')\n",
    "for i in range(np.size(rid)-1):\n",
    "    # If there is a break...\n",
    "    if(deltas[i]>1):\n",
    "        gap_counter += 1 \n",
    "        print(gap_counter)\n",
    "        # Remember that deltas[i]=rid[i+1]-rid[i]\n",
    "        \n",
    "        print('Found %s gaps in the sequence' %(gap_counter))\n",
    "        print(rid[i],rn[i],' followed by ',rid[i+1],rn[i+1])\n",
    "        print('The gap is %s-%s,'%(rid[i],rid[i+1]))\n",
    "        print('The sequence except this particular gap is %s-%s,%s-%s'%(rid[0],rid[i],rid[i+1],rid[-1]))\n",
    "        \n",
    "        ca += str('%s,%s-'%(nrid[i],nrid[i+1]))\n",
    "\n",
    "ca += '%s'%(nrid[-1]) #Finish the list of ResIDs\n",
    "print('Final list of residues is:', ca)"
   ]
  },
  {
   "cell_type": "code",
   "execution_count": 28,
   "id": "e7155846",
   "metadata": {},
   "outputs": [],
   "source": [
    "#IF YOU WANT TO SET YOUR OWN LIST OF RESIDS\n",
    "#ca=('X-Y,A-B')\n",
    "#print(ca)"
   ]
  },
  {
   "cell_type": "markdown",
   "id": "ddb9b5ab",
   "metadata": {},
   "source": [
    "## Create collective variable file for EQ-03"
   ]
  },
  {
   "cell_type": "code",
   "execution_count": 29,
   "id": "bb5b855b",
   "metadata": {},
   "outputs": [],
   "source": [
    "shutil.copy2('cosolvent.col', 'cosolvent2.col')\n",
    "print(\"\"\"\n",
    "colvar {\n",
    "  name Origin\n",
    "  distance {\n",
    "     group1 {\n",
    "      psfSegID PRO\n",
    "      atomNameResidueRange CA %s\n",
    "      centerReference on\n",
    "      refPositions (0,0,0)\n",
    "     }\n",
    "     group2 {\n",
    "     dummyAtom (%s,%s,%s)\n",
    "     }\n",
    "  }\n",
    "}\n",
    "\"\"\" %(ca,protcenx,protceny,protcenz), file=open(\"cosolvent2.col\", \"a\"))"
   ]
  },
  {
   "cell_type": "markdown",
   "id": "68dac295",
   "metadata": {},
   "source": [
    "## Create input file for EQ-03"
   ]
  },
  {
   "cell_type": "code",
   "execution_count": 30,
   "id": "1092858e",
   "metadata": {},
   "outputs": [],
   "source": [
    "text = \"\"\"\n",
    "#############################################################\n",
    "## JOB DESCRIPTION                                         ##\n",
    "#############################################################\n",
    "\n",
    "# Min. and Eq. of Co-Solvent Membrane System\n",
    "# embedded in POPC membrane, ions and water.\n",
    "# Protein released. PME, Constant Pressure.\n",
    "\n",
    "#############################################################\n",
    "## ADJUSTABLE PARAMETERS                                   ##\n",
    "#############################################################\n",
    "\n",
    "structure          structure.psf\n",
    "coordinates        structure.pdb\n",
    "outputName         eq-03\n",
    "\n",
    "set temperature    310\n",
    "\n",
    "# Continuing a job from the restart files\n",
    "if {1} {\n",
    "set inputname      mineq-02\n",
    "binCoordinates     ./$inputname.restart.coor\n",
    "binVelocities      ./$inputname.restart.vel  \n",
    "extendedSystem\t   ./$inputname.restart.xsc\n",
    "} \n",
    "\n",
    "firsttimestep      1501500 ;# last step of previous run\n",
    "\n",
    "#############################################################\n",
    "## SIMULATION PARAMETERS                                   ##\n",
    "#############################################################\n",
    "\n",
    "# Input\n",
    "paraTypeCharmm\t    on\n",
    "parameters          parameters\n",
    "\n",
    "wrapWater           on\n",
    "wrapAll             on\n",
    "\n",
    "# Force-Field Parameters\n",
    "exclude             scaled1-4\n",
    "1-4scaling          1.0\n",
    "cutoff              12.\n",
    "switching           on\n",
    "switchdist          10.\n",
    "pairlistdist        13.5\n",
    "\n",
    "# Integrator Parameters\n",
    "timestep            2.0  ;# 2fs/step\n",
    "rigidBonds          all  ;# needed for 2fs steps\n",
    "nonbondedFreq       1\n",
    "fullElectFrequency  2  \n",
    "stepspercycle       20\n",
    "\n",
    "#PME (for full-system periodic electrostatics)\n",
    "if {1} {\n",
    "PME                yes\n",
    "PMEGridSpacing     1.0\n",
    "}\n",
    "\n",
    "# Constant Temperature Control\n",
    "langevin            on    ;# do langevin dynamics\n",
    "langevinDamping     1     ;# damping coefficient (gamma) of 5/ps\n",
    "langevinTemp        $temperature\n",
    "\n",
    "# Constant Pressure Control (variable volume)\n",
    "if {1} {\n",
    "useGroupPressure      yes ;# needed for 2fs steps\n",
    "useFlexibleCell       yes  ;# no for water box, yes for membrane\n",
    "useConstantArea       no  ;# no for water box, yes for membrane\n",
    "\n",
    "langevinPiston        on\n",
    "langevinPistonTarget  1.01325 ;#  in bar -> 1 atm\n",
    "langevinPistonPeriod  200.\n",
    "langevinPistonDecay   50.\n",
    "langevinPistonTemp    $temperature\n",
    "}\n",
    "\n",
    "restartfreq        1000     ;# 1000steps = every 2ps\n",
    "dcdfreq            1000\n",
    "xstFreq            1000\n",
    "outputEnergies      50\n",
    "outputPressure      50\n",
    "\n",
    "#############################################################\n",
    "## EXTRA PARAMETERS                                        ##\n",
    "#############################################################\n",
    "\n",
    "# Put here any custom parameters that are specific to \n",
    "# this job (e.g., SMD, TclForces, etc...)\n",
    "\n",
    "constraints on\n",
    "consexp 2 \n",
    "consref ./structure.pdb\n",
    "conskfile prod.pdb\n",
    "conskcol B\n",
    "margin 3 \n",
    "\n",
    "colvars on\n",
    "colvarsConfig cosolvent2.col\n",
    "\n",
    "#############################################################\n",
    "## EXECUTION SCRIPT                                        ##\n",
    "#############################################################\n",
    "\n",
    "#Equilibration\n",
    "run 5000000;# 10.0 ns\n",
    "\"\"\"\n",
    "parameter_line = 'parameters          parameters\\n'\n",
    "parameter_line += 'parameters          ' + csolp + '\\n'\n",
    "if ligname != 'None':\n",
    "    parameter_line += 'parameters          ' + ligp + '\\n'\n",
    "#PLEASE FEEL FREE TO MODIFY IF YOU WANT TO ADD MORE PARAMETERS FOR LIGANDS OR NONCANONIC RESIDUES\n",
    "\n",
    "text = text.replace('parameters          parameters\\n', parameter_line)\n",
    "with open(\"eq-03.conf\", \"w\") as out:\n",
    "    print(text, file=out)"
   ]
  },
  {
   "cell_type": "markdown",
   "id": "4c82b6b7",
   "metadata": {},
   "source": [
    "## Create collective variable file for production"
   ]
  },
  {
   "cell_type": "code",
   "execution_count": 31,
   "id": "6707fac4",
   "metadata": {},
   "outputs": [],
   "source": [
    "print(\"\"\"\n",
    "Colvarstrajfrequency    50\n",
    "Colvarsrestartfrequency 50\n",
    "\"\"\", file=open(\"cosolvent3.col\", \"w\"))\n",
    "\n",
    "for element in csolec:\n",
    "    #zio=plm.get('resid', sel='resname %s and resid %s z > 0' %(csolv,element))\n",
    "    zio=plm.get(\"serial\",sel=\"resname %s and resid %s and z > 0\" %(csolv,element))\n",
    "    #rint(resid)\n",
    "    #print(zio)\n",
    "    print(\"\"\"\n",
    "    ### Mol n. %s ###\n",
    "    colvar {\n",
    "       name ec_%s\n",
    "       upperboundary %s\n",
    "       upperwall %s\n",
    "       upperwallconstant 200.0\n",
    "       lowerboundary 0.0\n",
    "       lowerwall 0.0\n",
    "       lowerwallconstant 200.0\n",
    "       distancexy {\n",
    "          ref {\n",
    "             dummyAtom ( %s, %s, 0.000 )\n",
    "          }\n",
    "          main {\n",
    "             atomNumbers {%s}\n",
    "          }\n",
    "         axis (0.0, 0.0, 1.0)\n",
    "       }\n",
    "    }\n",
    "\n",
    "    colvar {\n",
    "       name ecz_%s\n",
    "       upperboundary %s\n",
    "       upperwall %s\n",
    "       lowerboundary 0.0\n",
    "       upperwallconstant 200.0\n",
    "       distanceZ {\n",
    "          ref {\n",
    "             dummyAtom ( %s, %s, %s )\n",
    "          }\n",
    "          main {\n",
    "            atomNumbers {%s}\n",
    "          }\n",
    "       }\n",
    "    } \n",
    "    \"\"\" %(element,element,smallr,smallr,x_offset,y_offset,str(zio).strip('[]'),element,zheight,zheight,x_offset,y_offset,zl2,str(zio).strip('[]')), file=open(\"cosolvent3.col\", \"a\"))\n",
    "print(\"\"\"\n",
    "    colvar {\n",
    "      name Origin\n",
    "      distance {\n",
    "         group1 {\n",
    "          psfSegID PRO\n",
    "          atomNameResidueRange CA %s\n",
    "          centerReference on\n",
    "          refPositions (0,0,0)\n",
    "         }\n",
    "         group2 {\n",
    "         dummyAtom (%s,%s,%s)\n",
    "         }\n",
    "      }\n",
    "    }\n",
    "    \"\"\"%(ca,protcenx,protceny,protcenz), file=open(\"cosolvent3.col\", \"a\"))"
   ]
  },
  {
   "cell_type": "markdown",
   "id": "e729aa48",
   "metadata": {},
   "source": [
    "## Create input file for production"
   ]
  },
  {
   "cell_type": "code",
   "execution_count": 32,
   "id": "61409779",
   "metadata": {},
   "outputs": [],
   "source": [
    "text = \"\"\"\n",
    "#############################################################\n",
    "## JOB DESCRIPTION                                         ##\n",
    "#############################################################\n",
    "\n",
    "# Min. and Eq. of Co-Solvent Membrane System\n",
    "# embedded in POPC membrane, ions and water.\n",
    "# Protein released. PME, Constant Pressure and Area.\n",
    "\n",
    "#############################################################\n",
    "## ADJUSTABLE PARAMETERS                                   ##\n",
    "#############################################################\n",
    "\n",
    "structure          structure.psf\n",
    "coordinates        structure.pdb\n",
    "outputName         run          \n",
    "\n",
    "set temperature    310\n",
    "\n",
    "# Continuing a job from the restart files\n",
    "if {1} {\n",
    "set inputname      eq-03\n",
    "binCoordinates     ./$inputname.restart.coor\n",
    "binVelocities      ./$inputname.restart.vel  \n",
    "extendedSystem\t   ./$inputname.restart.xsc\n",
    "} \n",
    "\n",
    "firsttimestep      6501500 ;# last step of previous run\n",
    "\n",
    "#############################################################\n",
    "## SIMULATION PARAMETERS                                   ##\n",
    "#############################################################\n",
    "\n",
    "# Input\n",
    "paraTypeCharmm\t    on\n",
    "parameters          parameters\n",
    "\n",
    "wrapWater           on\n",
    "wrapAll             on\n",
    "\n",
    "# Force-Field Parameters\n",
    "exclude             scaled1-4\n",
    "1-4scaling          1.0\n",
    "cutoff              12.\n",
    "switching           on\n",
    "switchdist          10.\n",
    "pairlistdist        13.5\n",
    "\n",
    "# Integrator Parameters\n",
    "timestep            2.0  ;# 2fs/step\n",
    "rigidBonds          all  ;# needed for 2fs steps\n",
    "nonbondedFreq       1\n",
    "fullElectFrequency  2  \n",
    "stepspercycle       20\n",
    "\n",
    "#PME (for full-system periodic electrostatics)\n",
    "if {1} {\n",
    "PME                yes\n",
    "PMEGridSpacing     1.0\n",
    "}\n",
    "\n",
    "# Constant Temperature Control\n",
    "langevin            on    ;# do langevin dynamics\n",
    "langevinDamping     1     ;# damping coefficient (gamma) of 5/ps\n",
    "langevinTemp        $temperature\n",
    "\n",
    "# Constant Pressure Control (variable volume)\n",
    "if {1} {\n",
    "useGroupPressure      yes ;# needed for 2fs steps\n",
    "useFlexibleCell       yes ;# no for water box, yes for membrane\n",
    "useConstantArea       yes ;# no for water box, yes for membrane\n",
    "\n",
    "langevinPiston        on\n",
    "langevinPistonTarget  1.01325 ;#  in bar -> 1 atm\n",
    "langevinPistonPeriod  200.\n",
    "langevinPistonDecay   50.\n",
    "langevinPistonTemp    $temperature\n",
    "}\n",
    "\n",
    "restartfreq       10000     ;# 1000steps = every 20ps\n",
    "dcdfreq           10000\n",
    "xstFreq            1000\n",
    "outputEnergies      100\n",
    "outputPressure      100\n",
    "\n",
    "#############################################################\n",
    "## EXTRA PARAMETERS                                        ##\n",
    "#############################################################\n",
    "\n",
    "# Put here any custom parameters that are specific to \n",
    "# this job (e.g., SMD, TclForces, etc...)\n",
    "\n",
    "constraints on\n",
    "consexp 2 \n",
    "consref ./structure.pdb\n",
    "conskfile prod.pdb\n",
    "conskcol B\n",
    "margin 3  \n",
    "\n",
    "colvars on\n",
    "colvarsConfig cosolvent3.col\n",
    "\n",
    "#############################################################\n",
    "## EXECUTION SCRIPT                                        ##\n",
    "#############################################################\n",
    "if {1} { \n",
    "  minimize            240\n",
    "  reinitvels          $temperature\n",
    "  } \n",
    "\n",
    "  run 20000000 ;# 40.0 ns\n",
    "\"\"\"\n",
    "\n",
    "parameter_line = 'parameters          parameters\\n'\n",
    "parameter_line += 'parameters          ' + csolp + '\\n'\n",
    "if ligname != 'None':\n",
    "    parameter_line += 'parameters          ' + ligp + '\\n'\n",
    "#PLEASE FEEL FREE TO MODIFY IF YOU WANT TO ADD MORE PARAMETERS FOR LIGANDS OR NONCANONIC RESIDUES\n",
    "\n",
    "text = text.replace('parameters          parameters\\n', parameter_line)\n",
    "with open(\"run.conf\", \"w\") as out:\n",
    "    print(text, file=out)"
   ]
  },
  {
   "cell_type": "markdown",
   "id": "1d4a4183",
   "metadata": {},
   "source": [
    "## Print system specs in a file"
   ]
  },
  {
   "cell_type": "code",
   "execution_count": 33,
   "id": "b20db363",
   "metadata": {},
   "outputs": [],
   "source": [
    "print(\"\"\"\n",
    "Protein Dimensions: %s %s\n",
    "Cosolvent Boxes Dimensions: %s %s %s\n",
    "Number of Cosolvent Molecules: %s\n",
    "Cell Dimensions: %s %s %s\n",
    "Cell Origin: %s %s %s\n",
    "Protein Center of Mass: %s %s %s\n",
    "Cylinder Radius: %s\n",
    "Cylinder Z Boundary: %s\n",
    "Cylinder Smaller Radius: %s\n",
    "Cylinder X Y: %s %s\n",
    "\"\"\" %(xsize,ysize,intxs,intys,intzs,cnumsol,bxsize,bysize,bzsize,bcenx,bceny,bcenz,protcenx,protceny,protcenz,radius,zl2,smallr,x_offset,y_offset),file=open(\"system-specs.txt\", \"w\"))"
   ]
  },
  {
   "cell_type": "code",
   "execution_count": null,
   "id": "e3cc2d4b",
   "metadata": {},
   "outputs": [],
   "source": []
  },
  {
   "cell_type": "code",
   "execution_count": null,
   "id": "b26a9f71",
   "metadata": {},
   "outputs": [],
   "source": []
  },
  {
   "cell_type": "code",
   "execution_count": null,
   "id": "7b399989",
   "metadata": {},
   "outputs": [],
   "source": []
  },
  {
   "cell_type": "code",
   "execution_count": null,
   "id": "21b7a677",
   "metadata": {},
   "outputs": [],
   "source": []
  },
  {
   "cell_type": "code",
   "execution_count": null,
   "id": "166e9886",
   "metadata": {},
   "outputs": [],
   "source": []
  }
 ],
 "metadata": {
  "kernelspec": {
   "display_name": "Python 3 (ipykernel)",
   "language": "python",
   "name": "python3"
  },
  "language_info": {
   "codemirror_mode": {
    "name": "ipython",
    "version": 3
   },
   "file_extension": ".py",
   "mimetype": "text/x-python",
   "name": "python",
   "nbconvert_exporter": "python",
   "pygments_lexer": "ipython3",
   "version": "3.10.8"
  }
 },
 "nbformat": 4,
 "nbformat_minor": 5
}
